{
 "cells": [
  {
   "cell_type": "markdown",
   "id": "031b0f5f",
   "metadata": {},
   "source": [
    "# 1. Import the data"
   ]
  },
  {
   "cell_type": "code",
   "execution_count": 1,
   "id": "7268efe8",
   "metadata": {},
   "outputs": [
    {
     "data": {
      "text/html": [
       "<div>\n",
       "<style scoped>\n",
       "    .dataframe tbody tr th:only-of-type {\n",
       "        vertical-align: middle;\n",
       "    }\n",
       "\n",
       "    .dataframe tbody tr th {\n",
       "        vertical-align: top;\n",
       "    }\n",
       "\n",
       "    .dataframe thead th {\n",
       "        text-align: right;\n",
       "    }\n",
       "</style>\n",
       "<table border=\"1\" class=\"dataframe\">\n",
       "  <thead>\n",
       "    <tr style=\"text-align: right;\">\n",
       "      <th></th>\n",
       "      <th>Open</th>\n",
       "      <th>High</th>\n",
       "      <th>Low</th>\n",
       "      <th>Close</th>\n",
       "      <th>Volume</th>\n",
       "      <th>Dividend</th>\n",
       "      <th>Split</th>\n",
       "      <th>Adj_Open</th>\n",
       "      <th>Adj_High</th>\n",
       "      <th>Adj_Low</th>\n",
       "      <th>Adj_Close</th>\n",
       "      <th>Adj_Volume</th>\n",
       "    </tr>\n",
       "    <tr>\n",
       "      <th>Date</th>\n",
       "      <th></th>\n",
       "      <th></th>\n",
       "      <th></th>\n",
       "      <th></th>\n",
       "      <th></th>\n",
       "      <th></th>\n",
       "      <th></th>\n",
       "      <th></th>\n",
       "      <th></th>\n",
       "      <th></th>\n",
       "      <th></th>\n",
       "      <th></th>\n",
       "    </tr>\n",
       "  </thead>\n",
       "  <tbody>\n",
       "    <tr>\n",
       "      <th>2018-04-09</th>\n",
       "      <td>332.25</td>\n",
       "      <td>334.88</td>\n",
       "      <td>322.05</td>\n",
       "      <td>322.48</td>\n",
       "      <td>4931728.0</td>\n",
       "      <td>0.0</td>\n",
       "      <td>1.0</td>\n",
       "      <td>330.606910</td>\n",
       "      <td>333.223904</td>\n",
       "      <td>320.457353</td>\n",
       "      <td>320.885226</td>\n",
       "      <td>4931728.0</td>\n",
       "    </tr>\n",
       "    <tr>\n",
       "      <th>2018-04-10</th>\n",
       "      <td>331.35</td>\n",
       "      <td>336.69</td>\n",
       "      <td>329.55</td>\n",
       "      <td>334.83</td>\n",
       "      <td>5616231.0</td>\n",
       "      <td>0.0</td>\n",
       "      <td>1.0</td>\n",
       "      <td>329.711361</td>\n",
       "      <td>335.024953</td>\n",
       "      <td>327.920263</td>\n",
       "      <td>333.174151</td>\n",
       "      <td>5616231.0</td>\n",
       "    </tr>\n",
       "    <tr>\n",
       "      <th>2018-04-11</th>\n",
       "      <td>331.60</td>\n",
       "      <td>337.57</td>\n",
       "      <td>326.31</td>\n",
       "      <td>327.36</td>\n",
       "      <td>4566253.0</td>\n",
       "      <td>0.0</td>\n",
       "      <td>1.0</td>\n",
       "      <td>329.960125</td>\n",
       "      <td>335.900601</td>\n",
       "      <td>324.696286</td>\n",
       "      <td>325.741093</td>\n",
       "      <td>4566253.0</td>\n",
       "    </tr>\n",
       "    <tr>\n",
       "      <th>2018-04-12</th>\n",
       "      <td>331.98</td>\n",
       "      <td>338.35</td>\n",
       "      <td>330.46</td>\n",
       "      <td>337.48</td>\n",
       "      <td>4318083.0</td>\n",
       "      <td>0.0</td>\n",
       "      <td>1.0</td>\n",
       "      <td>330.338246</td>\n",
       "      <td>336.676744</td>\n",
       "      <td>328.825763</td>\n",
       "      <td>335.811046</td>\n",
       "      <td>4318083.0</td>\n",
       "    </tr>\n",
       "    <tr>\n",
       "      <th>2018-04-13</th>\n",
       "      <td>338.99</td>\n",
       "      <td>339.67</td>\n",
       "      <td>326.60</td>\n",
       "      <td>329.28</td>\n",
       "      <td>4730972.0</td>\n",
       "      <td>0.0</td>\n",
       "      <td>1.0</td>\n",
       "      <td>337.313579</td>\n",
       "      <td>337.990216</td>\n",
       "      <td>324.984852</td>\n",
       "      <td>327.651598</td>\n",
       "      <td>4730972.0</td>\n",
       "    </tr>\n",
       "  </tbody>\n",
       "</table>\n",
       "</div>"
      ],
      "text/plain": [
       "              Open    High     Low   Close     Volume  Dividend  Split  \\\n",
       "Date                                                                     \n",
       "2018-04-09  332.25  334.88  322.05  322.48  4931728.0       0.0    1.0   \n",
       "2018-04-10  331.35  336.69  329.55  334.83  5616231.0       0.0    1.0   \n",
       "2018-04-11  331.60  337.57  326.31  327.36  4566253.0       0.0    1.0   \n",
       "2018-04-12  331.98  338.35  330.46  337.48  4318083.0       0.0    1.0   \n",
       "2018-04-13  338.99  339.67  326.60  329.28  4730972.0       0.0    1.0   \n",
       "\n",
       "              Adj_Open    Adj_High     Adj_Low   Adj_Close  Adj_Volume  \n",
       "Date                                                                    \n",
       "2018-04-09  330.606910  333.223904  320.457353  320.885226   4931728.0  \n",
       "2018-04-10  329.711361  335.024953  327.920263  333.174151   5616231.0  \n",
       "2018-04-11  329.960125  335.900601  324.696286  325.741093   4566253.0  \n",
       "2018-04-12  330.338246  336.676744  328.825763  335.811046   4318083.0  \n",
       "2018-04-13  337.313579  337.990216  324.984852  327.651598   4730972.0  "
      ]
     },
     "execution_count": 1,
     "metadata": {},
     "output_type": "execute_result"
    }
   ],
   "source": [
    "import pandas as pd\n",
    "data = pd.read_csv('BA.csv', index_col=0)\n",
    "data.index = pd.to_datetime(data.index)\n",
    "data.tail()"
   ]
  },
  {
   "cell_type": "markdown",
   "id": "65b9e9cf",
   "metadata": {},
   "source": [
    "# 2. Define predictor variables and a target variables"
   ]
  },
  {
   "cell_type": "code",
   "execution_count": 2,
   "id": "63989639",
   "metadata": {},
   "outputs": [],
   "source": [
    "# Returns\n",
    "data['ret1'] = data['Adj_Close'].pct_change()\n",
    "data['ret5'] = data.ret1.rolling(5).sum()\n",
    "\n",
    "# Standard Deviation\n",
    "data['std5'] = data.ret1.rolling(5).std()\n",
    "\n",
    "# Volume by ADV20\n",
    "data['volume_by_adv20'] = data['Adj_Volume']/data.Adj_Volume.rolling(20).mean()\n",
    "\n",
    "# High - low\n",
    "data['H-L'] = data['Adj_High'] - data['Adj_Low']\n",
    "\n",
    "# Open - Close\n",
    "data['O-C'] = data['Adj_Close'] - data['Adj_Open']"
   ]
  },
  {
   "cell_type": "code",
   "execution_count": 3,
   "id": "a3927136",
   "metadata": {},
   "outputs": [],
   "source": [
    "# Future returns\n",
    "data['retFut1'] = data.ret1.shift(-1)"
   ]
  },
  {
   "cell_type": "code",
   "execution_count": 4,
   "id": "1862f97e",
   "metadata": {},
   "outputs": [
    {
     "data": {
      "text/plain": [
       "((2569, 5), (2569,))"
      ]
     },
     "execution_count": 4,
     "metadata": {},
     "output_type": "execute_result"
    }
   ],
   "source": [
    "# Define predictor variables (X) and a target variable (y)\n",
    "import numpy as np\n",
    "data = data.dropna()\n",
    "predictor_list = ['H-L', 'O-C', 'ret5', 'std5', 'volume_by_adv20']\n",
    "X = data[predictor_list]\n",
    "\n",
    "y = np.where(data.retFut1 > 0.0, 1, 0)\n",
    "X.shape, y.shape"
   ]
  },
  {
   "cell_type": "markdown",
   "id": "03afda0f",
   "metadata": {},
   "source": [
    "# 3. Split the data into train and test dataset"
   ]
  },
  {
   "cell_type": "code",
   "execution_count": 5,
   "id": "8e7d4f03",
   "metadata": {},
   "outputs": [],
   "source": [
    "# Split the data into train and test dataset\n",
    "from sklearn.model_selection import train_test_split\n",
    "\n",
    "train_length = int(len(data)*0.80)\n",
    "\n",
    "X_train = X[:train_length]\n",
    "X_test = X[train_length:]\n",
    "\n",
    "y_train = y[:train_length]\n",
    "y_test = y[train_length:]"
   ]
  },
  {
   "cell_type": "markdown",
   "id": "06400617",
   "metadata": {},
   "source": [
    "# 4. Scale the data"
   ]
  },
  {
   "cell_type": "code",
   "execution_count": 6,
   "id": "8644d770",
   "metadata": {},
   "outputs": [],
   "source": [
    "from sklearn.preprocessing import StandardScaler\n",
    "scaler = StandardScaler()\n",
    "\n",
    "# Create the scaler model using train data\n",
    "scaler.fit(X_train)\n",
    "\n",
    "# Transform the training and test data using the scaler model created above\n",
    "X_train = scaler.transform(X_train)\n",
    "X_test = scaler.transform(X_test)"
   ]
  },
  {
   "cell_type": "markdown",
   "id": "0a059a0c",
   "metadata": {},
   "source": [
    "# 5. Create a neural network model"
   ]
  },
  {
   "cell_type": "code",
   "execution_count": 7,
   "id": "ec74c064",
   "metadata": {},
   "outputs": [],
   "source": [
    "# Import the MLPClassifier\n",
    "from sklearn.neural_network import MLPClassifier\n",
    "# Uncomment below line to see details of MLPClassifier\n",
    "# help(MLPClassifier)"
   ]
  },
  {
   "cell_type": "code",
   "execution_count": 8,
   "id": "cb9945d0",
   "metadata": {},
   "outputs": [],
   "source": [
    "# seed is initialized to 42\n",
    "seed = 42\n",
    "# Create the MLPClassifier model\n",
    "mlp = MLPClassifier(activation='logistic', hidden_layer_sizes=(\n",
    "    5), random_state=seed, solver='sgd')"
   ]
  },
  {
   "cell_type": "markdown",
   "id": "d9a58554",
   "metadata": {},
   "source": [
    "## 5.1 Training the model"
   ]
  },
  {
   "cell_type": "code",
   "execution_count": 9,
   "id": "7df80236",
   "metadata": {},
   "outputs": [
    {
     "data": {
      "text/plain": [
       "MLPClassifier(activation='logistic', hidden_layer_sizes=5, random_state=42,\n",
       "              solver='sgd')"
      ]
     },
     "execution_count": 9,
     "metadata": {},
     "output_type": "execute_result"
    }
   ],
   "source": [
    "# Fit the model on train dataset\n",
    "mlp.fit(X_train, y_train)"
   ]
  },
  {
   "cell_type": "markdown",
   "id": "14705089",
   "metadata": {},
   "source": [
    "## 5.2 Predict using the neural network"
   ]
  },
  {
   "cell_type": "code",
   "execution_count": 10,
   "id": "35972ce8",
   "metadata": {},
   "outputs": [
    {
     "data": {
      "text/html": [
       "<div>\n",
       "<style scoped>\n",
       "    .dataframe tbody tr th:only-of-type {\n",
       "        vertical-align: middle;\n",
       "    }\n",
       "\n",
       "    .dataframe tbody tr th {\n",
       "        vertical-align: top;\n",
       "    }\n",
       "\n",
       "    .dataframe thead th {\n",
       "        text-align: right;\n",
       "    }\n",
       "</style>\n",
       "<table border=\"1\" class=\"dataframe\">\n",
       "  <thead>\n",
       "    <tr style=\"text-align: right;\">\n",
       "      <th></th>\n",
       "      <th>Open</th>\n",
       "      <th>High</th>\n",
       "      <th>Low</th>\n",
       "      <th>Close</th>\n",
       "      <th>Volume</th>\n",
       "      <th>Dividend</th>\n",
       "      <th>Split</th>\n",
       "      <th>Adj_Open</th>\n",
       "      <th>Adj_High</th>\n",
       "      <th>Adj_Low</th>\n",
       "      <th>...</th>\n",
       "      <th>Adj_Volume</th>\n",
       "      <th>ret1</th>\n",
       "      <th>ret5</th>\n",
       "      <th>std5</th>\n",
       "      <th>volume_by_adv20</th>\n",
       "      <th>H-L</th>\n",
       "      <th>O-C</th>\n",
       "      <th>retFut1</th>\n",
       "      <th>predicted_signal</th>\n",
       "      <th>strategy_returns_nn</th>\n",
       "    </tr>\n",
       "    <tr>\n",
       "      <th>Date</th>\n",
       "      <th></th>\n",
       "      <th></th>\n",
       "      <th></th>\n",
       "      <th></th>\n",
       "      <th></th>\n",
       "      <th></th>\n",
       "      <th></th>\n",
       "      <th></th>\n",
       "      <th></th>\n",
       "      <th></th>\n",
       "      <th></th>\n",
       "      <th></th>\n",
       "      <th></th>\n",
       "      <th></th>\n",
       "      <th></th>\n",
       "      <th></th>\n",
       "      <th></th>\n",
       "      <th></th>\n",
       "      <th></th>\n",
       "      <th></th>\n",
       "      <th></th>\n",
       "    </tr>\n",
       "  </thead>\n",
       "  <tbody>\n",
       "    <tr>\n",
       "      <th>2018-04-06</th>\n",
       "      <td>330.61</td>\n",
       "      <td>334.59</td>\n",
       "      <td>322.21</td>\n",
       "      <td>326.12</td>\n",
       "      <td>5711469.0</td>\n",
       "      <td>0.0</td>\n",
       "      <td>1.0</td>\n",
       "      <td>328.975021</td>\n",
       "      <td>332.935338</td>\n",
       "      <td>320.616562</td>\n",
       "      <td>...</td>\n",
       "      <td>5711469.0</td>\n",
       "      <td>-0.030559</td>\n",
       "      <td>-0.004014</td>\n",
       "      <td>0.026146</td>\n",
       "      <td>0.895242</td>\n",
       "      <td>12.318777</td>\n",
       "      <td>-4.467795</td>\n",
       "      <td>-0.011162</td>\n",
       "      <td>0</td>\n",
       "      <td>-0.0</td>\n",
       "    </tr>\n",
       "    <tr>\n",
       "      <th>2018-04-09</th>\n",
       "      <td>332.25</td>\n",
       "      <td>334.88</td>\n",
       "      <td>322.05</td>\n",
       "      <td>322.48</td>\n",
       "      <td>4931728.0</td>\n",
       "      <td>0.0</td>\n",
       "      <td>1.0</td>\n",
       "      <td>330.606910</td>\n",
       "      <td>333.223904</td>\n",
       "      <td>320.457353</td>\n",
       "      <td>...</td>\n",
       "      <td>4931728.0</td>\n",
       "      <td>-0.011162</td>\n",
       "      <td>0.001416</td>\n",
       "      <td>0.025429</td>\n",
       "      <td>0.764671</td>\n",
       "      <td>12.766551</td>\n",
       "      <td>-9.721684</td>\n",
       "      <td>0.038297</td>\n",
       "      <td>0</td>\n",
       "      <td>0.0</td>\n",
       "    </tr>\n",
       "    <tr>\n",
       "      <th>2018-04-10</th>\n",
       "      <td>331.35</td>\n",
       "      <td>336.69</td>\n",
       "      <td>329.55</td>\n",
       "      <td>334.83</td>\n",
       "      <td>5616231.0</td>\n",
       "      <td>0.0</td>\n",
       "      <td>1.0</td>\n",
       "      <td>329.711361</td>\n",
       "      <td>335.024953</td>\n",
       "      <td>327.920263</td>\n",
       "      <td>...</td>\n",
       "      <td>5616231.0</td>\n",
       "      <td>0.038297</td>\n",
       "      <td>0.013723</td>\n",
       "      <td>0.028899</td>\n",
       "      <td>0.873983</td>\n",
       "      <td>7.104690</td>\n",
       "      <td>3.462790</td>\n",
       "      <td>-0.022310</td>\n",
       "      <td>0</td>\n",
       "      <td>-0.0</td>\n",
       "    </tr>\n",
       "    <tr>\n",
       "      <th>2018-04-11</th>\n",
       "      <td>331.60</td>\n",
       "      <td>337.57</td>\n",
       "      <td>326.31</td>\n",
       "      <td>327.36</td>\n",
       "      <td>4566253.0</td>\n",
       "      <td>0.0</td>\n",
       "      <td>1.0</td>\n",
       "      <td>329.960125</td>\n",
       "      <td>335.900601</td>\n",
       "      <td>324.696286</td>\n",
       "      <td>...</td>\n",
       "      <td>4566253.0</td>\n",
       "      <td>-0.022310</td>\n",
       "      <td>0.001631</td>\n",
       "      <td>0.030704</td>\n",
       "      <td>0.715461</td>\n",
       "      <td>11.204315</td>\n",
       "      <td>-4.219032</td>\n",
       "      <td>0.030914</td>\n",
       "      <td>0</td>\n",
       "      <td>0.0</td>\n",
       "    </tr>\n",
       "    <tr>\n",
       "      <th>2018-04-12</th>\n",
       "      <td>331.98</td>\n",
       "      <td>338.35</td>\n",
       "      <td>330.46</td>\n",
       "      <td>337.48</td>\n",
       "      <td>4318083.0</td>\n",
       "      <td>0.0</td>\n",
       "      <td>1.0</td>\n",
       "      <td>330.338246</td>\n",
       "      <td>336.676744</td>\n",
       "      <td>328.825763</td>\n",
       "      <td>...</td>\n",
       "      <td>4318083.0</td>\n",
       "      <td>0.030914</td>\n",
       "      <td>0.005181</td>\n",
       "      <td>0.031516</td>\n",
       "      <td>0.726307</td>\n",
       "      <td>7.850981</td>\n",
       "      <td>5.472801</td>\n",
       "      <td>-0.024298</td>\n",
       "      <td>0</td>\n",
       "      <td>-0.0</td>\n",
       "    </tr>\n",
       "  </tbody>\n",
       "</table>\n",
       "<p>5 rows × 21 columns</p>\n",
       "</div>"
      ],
      "text/plain": [
       "              Open    High     Low   Close     Volume  Dividend  Split  \\\n",
       "Date                                                                     \n",
       "2018-04-06  330.61  334.59  322.21  326.12  5711469.0       0.0    1.0   \n",
       "2018-04-09  332.25  334.88  322.05  322.48  4931728.0       0.0    1.0   \n",
       "2018-04-10  331.35  336.69  329.55  334.83  5616231.0       0.0    1.0   \n",
       "2018-04-11  331.60  337.57  326.31  327.36  4566253.0       0.0    1.0   \n",
       "2018-04-12  331.98  338.35  330.46  337.48  4318083.0       0.0    1.0   \n",
       "\n",
       "              Adj_Open    Adj_High     Adj_Low  ...  Adj_Volume      ret1  \\\n",
       "Date                                            ...                         \n",
       "2018-04-06  328.975021  332.935338  320.616562  ...   5711469.0 -0.030559   \n",
       "2018-04-09  330.606910  333.223904  320.457353  ...   4931728.0 -0.011162   \n",
       "2018-04-10  329.711361  335.024953  327.920263  ...   5616231.0  0.038297   \n",
       "2018-04-11  329.960125  335.900601  324.696286  ...   4566253.0 -0.022310   \n",
       "2018-04-12  330.338246  336.676744  328.825763  ...   4318083.0  0.030914   \n",
       "\n",
       "                ret5      std5  volume_by_adv20        H-L       O-C  \\\n",
       "Date                                                                   \n",
       "2018-04-06 -0.004014  0.026146         0.895242  12.318777 -4.467795   \n",
       "2018-04-09  0.001416  0.025429         0.764671  12.766551 -9.721684   \n",
       "2018-04-10  0.013723  0.028899         0.873983   7.104690  3.462790   \n",
       "2018-04-11  0.001631  0.030704         0.715461  11.204315 -4.219032   \n",
       "2018-04-12  0.005181  0.031516         0.726307   7.850981  5.472801   \n",
       "\n",
       "             retFut1  predicted_signal  strategy_returns_nn  \n",
       "Date                                                         \n",
       "2018-04-06 -0.011162                 0                 -0.0  \n",
       "2018-04-09  0.038297                 0                  0.0  \n",
       "2018-04-10 -0.022310                 0                 -0.0  \n",
       "2018-04-11  0.030914                 0                  0.0  \n",
       "2018-04-12 -0.024298                 0                 -0.0  \n",
       "\n",
       "[5 rows x 21 columns]"
      ]
     },
     "execution_count": 10,
     "metadata": {},
     "output_type": "execute_result"
    }
   ],
   "source": [
    "data['predicted_signal'] = mlp.predict(X)\n",
    "data['strategy_returns_nn'] = data.retFut1 * data.predicted_signal\n",
    "data.tail()"
   ]
  },
  {
   "cell_type": "markdown",
   "id": "960a8471",
   "metadata": {},
   "source": [
    "# 6. Performance of the neural network"
   ]
  },
  {
   "cell_type": "markdown",
   "id": "cfb8764b",
   "metadata": {},
   "source": [
    "## 6.1 Sharpe Ratio"
   ]
  },
  {
   "cell_type": "code",
   "execution_count": 11,
   "id": "053f55a0",
   "metadata": {},
   "outputs": [],
   "source": [
    "# The below function returns the Sharpe ratio for the excess returns (Strategy returns - Risk free rate) passed to it.\n",
    "def annualized_sharpe_ratio(returns, N=252):\n",
    "    return np.sqrt(N) * returns.mean() / returns.std()"
   ]
  },
  {
   "cell_type": "code",
   "execution_count": 12,
   "id": "c2ddbf68",
   "metadata": {},
   "outputs": [],
   "source": [
    "# Train dataset\n",
    "data['excess_daily_strategy_return'] = data.strategy_returns_nn - 0.05/252\n",
    "sharpe_train_nn = annualized_sharpe_ratio(\n",
    "    data.excess_daily_strategy_return.iloc[:train_length])\n",
    "\n",
    "# Test dataset\n",
    "sharpe_test_nn = annualized_sharpe_ratio(\n",
    "    data.excess_daily_strategy_return.iloc[train_length:])"
   ]
  },
  {
   "cell_type": "markdown",
   "id": "c8543960",
   "metadata": {},
   "source": [
    "## 6.2 Strategy CAGR"
   ]
  },
  {
   "cell_type": "code",
   "execution_count": 13,
   "id": "c4728bc7",
   "metadata": {},
   "outputs": [],
   "source": [
    "def CAGR(returns):\n",
    "    cumulative_returns = (returns+1).cumprod().iloc[-1]\n",
    "    period_in_days = len(returns)\n",
    "    return 100*((cumulative_returns)**(252.0/period_in_days)-1)"
   ]
  },
  {
   "cell_type": "code",
   "execution_count": 14,
   "id": "18bb007f",
   "metadata": {},
   "outputs": [],
   "source": [
    "# Train dataset\n",
    "ret_train_nn = CAGR(data.strategy_returns_nn.iloc[:train_length])\n",
    "\n",
    "# Test dataset\n",
    "ret_test_nn = CAGR(data.strategy_returns_nn.iloc[train_length:])"
   ]
  },
  {
   "cell_type": "markdown",
   "id": "b26ecacc",
   "metadata": {},
   "source": [
    "## 6.3 Plot cumulative returns in train dataset"
   ]
  },
  {
   "cell_type": "code",
   "execution_count": 15,
   "id": "b3183a18",
   "metadata": {},
   "outputs": [
    {
     "data": {
      "image/png": "[encoded data removed]",
      "text/plain": [
       "<Figure size 720x504 with 1 Axes>"
      ]
     },
     "metadata": {
      "needs_background": "light"
     },
     "output_type": "display_data"
    }
   ],
   "source": [
    "import matplotlib.pyplot as plt\n",
    "import seaborn\n",
    "plt.title(\"Cumulative returns in train dataset\")\n",
    "\n",
    "# Plotting the cumulative returns for neural network in train dataset\n",
    "(data.strategy_returns_nn[:train_length]+1).cumprod().plot(figsize=(10,7))\n",
    "plt.ylabel('Cumulative returns')\n",
    "# Show the legend\n",
    "plt.legend()\n",
    "\n",
    "# Show the graph\n",
    "plt.show()"
   ]
  },
  {
   "cell_type": "markdown",
   "id": "577b98c3",
   "metadata": {},
   "source": [
    "## 6.4 Plot cumulative returns in test dataset"
   ]
  },
  {
   "cell_type": "code",
   "execution_count": 16,
   "id": "6d0626fb",
   "metadata": {},
   "outputs": [
    {
     "data": {
      "image/png": "[encoded data removed]",
      "text/plain": [
       "<Figure size 720x504 with 1 Axes>"
      ]
     },
     "metadata": {
      "needs_background": "light"
     },
     "output_type": "display_data"
    }
   ],
   "source": [
    "# Plotting the cumulative returns for neural network in test dataset\n",
    "plt.title(\"Cumulative returns in test dataset\")\n",
    "(data.strategy_returns_nn[train_length:]+1).cumprod().plot(figsize=(10, 7))\n",
    "plt.ylabel('Cumulative returns')\n",
    "# Show the legend\n",
    "plt.legend()\n",
    "\n",
    "# Show the graph\n",
    "plt.show()"
   ]
  },
  {
   "cell_type": "markdown",
   "id": "e8da525b",
   "metadata": {},
   "source": [
    "## 6.5 Strategy Results"
   ]
  },
  {
   "cell_type": "code",
   "execution_count": 19,
   "id": "0edab91d",
   "metadata": {},
   "outputs": [
    {
     "name": "stdout",
     "output_type": "stream",
     "text": [
      "Collecting tabulate\n",
      "  Downloading tabulate-0.9.0-py3-none-any.whl (35 kB)\n",
      "Installing collected packages: tabulate\n",
      "Successfully installed tabulate-0.9.0\n",
      "Note: you may need to restart the kernel to use updated packages.\n"
     ]
    }
   ],
   "source": [
    "pip install tabulate"
   ]
  },
  {
   "cell_type": "code",
   "execution_count": 20,
   "id": "cea04d10",
   "metadata": {},
   "outputs": [
    {
     "name": "stdout",
     "output_type": "stream",
     "text": [
      "|              |     Train |     Test |\n",
      "|--------------+-----------+----------|\n",
      "| CAGR         | 12.6792   | 7.2788   |\n",
      "| Sharpe Ratio |  0.420195 | 0.285062 |\n"
     ]
    }
   ],
   "source": [
    "from tabulate import tabulate\n",
    "\n",
    "print(tabulate(\n",
    "    [\n",
    "        ['CAGR', ret_train_nn, ret_test_nn],\n",
    "        ['Sharpe Ratio', sharpe_train_nn, sharpe_test_nn],\n",
    "    ],\n",
    "    headers=['Train', 'Test'],\n",
    "    tablefmt='orgtbl'))"
   ]
  },
  {
   "cell_type": "markdown",
   "id": "7174b40b",
   "metadata": {},
   "source": [
    "## 6.6 Accuracy of the neural network classifier"
   ]
  },
  {
   "cell_type": "code",
   "execution_count": 21,
   "id": "da870b72",
   "metadata": {},
   "outputs": [
    {
     "name": "stdout",
     "output_type": "stream",
     "text": [
      "              precision    recall  f1-score   support\n",
      "\n",
      "           0       0.44      0.57      0.50       216\n",
      "           1       0.61      0.48      0.54       298\n",
      "\n",
      "    accuracy                           0.52       514\n",
      "   macro avg       0.53      0.53      0.52       514\n",
      "weighted avg       0.54      0.52      0.52       514\n",
      "\n"
     ]
    }
   ],
   "source": [
    "from sklearn.metrics import classification_report\n",
    "print(classification_report(y_test, mlp.predict(X_test)))"
   ]
  }
 ],
 "metadata": {
  "kernelspec": {
   "display_name": "Python 3",
   "language": "python",
   "name": "python3"
  },
  "language_info": {
   "codemirror_mode": {
    "name": "ipython",
    "version": 3
   },
   "file_extension": ".py",
   "mimetype": "text/x-python",
   "name": "python",
   "nbconvert_exporter": "python",
   "pygments_lexer": "ipython3",
   "version": "3.8.8"
  }
 },
 "nbformat": 4,
 "nbformat_minor": 5
}
